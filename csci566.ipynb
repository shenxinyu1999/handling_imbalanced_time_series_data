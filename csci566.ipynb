{
  "cells": [
    {
      "cell_type": "code",
      "execution_count": 1,
      "metadata": {},
      "outputs": [],
      "source": [
        "data_file_path = 'OriginalData/'"
      ]
    },
    {
      "cell_type": "code",
      "execution_count": 2,
      "metadata": {
        "id": "kqr4UGQky-pF"
      },
      "outputs": [],
      "source": [
        "import numpy as np\n",
        "import pandas as pd\n",
        "import os\n",
        "import re\n",
        "import random\n",
        "import torch\n",
        "import torch.nn as nn\n",
        "from torch.utils.data import Dataset, DataLoader\n",
        "from tqdm import tqdm\n",
        "from sklearn.utils import resample\n",
        "from torch.optim.lr_scheduler import StepLR\n",
        "import matplotlib.pyplot as plt\n",
        "from sklearn import metrics"
      ]
    },
    {
      "attachments": {},
      "cell_type": "markdown",
      "metadata": {},
      "source": [
        "227 users found in users directory\n",
        "\n",
        "169 has parkinson, impact: 67 mild, 74 medium, 24 severe, 4 unknown\n",
        "\n",
        "58 no parkinson, 3 of them has mild impact tremor\n",
        "\n",
        "----\n",
        "\n",
        "217 users appear in TappyData, 49 non users appear in TappyData (discard).\n",
        "\n",
        "217 users, 162 positive, 55 negative"
      ]
    },
    {
      "cell_type": "code",
      "execution_count": 3,
      "metadata": {
        "colab": {
          "base_uri": "https://localhost:8080/",
          "height": 357
        },
        "id": "Z3PZRhpM-nic",
        "outputId": "c89b8fa1-5700-4bea-a6f0-ecdd2f538207"
      },
      "outputs": [
        {
          "data": {
            "text/html": [
              "<div>\n",
              "<style scoped>\n",
              "    .dataframe tbody tr th:only-of-type {\n",
              "        vertical-align: middle;\n",
              "    }\n",
              "\n",
              "    .dataframe tbody tr th {\n",
              "        vertical-align: top;\n",
              "    }\n",
              "\n",
              "    .dataframe thead th {\n",
              "        text-align: right;\n",
              "    }\n",
              "</style>\n",
              "<table border=\"1\" class=\"dataframe\">\n",
              "  <thead>\n",
              "    <tr style=\"text-align: right;\">\n",
              "      <th></th>\n",
              "      <th>BirthYear</th>\n",
              "      <th>Gender</th>\n",
              "      <th>Parkinsons</th>\n",
              "      <th>Tremors</th>\n",
              "      <th>DiagnosisYear</th>\n",
              "      <th>Sided</th>\n",
              "      <th>UPDRS</th>\n",
              "      <th>Impact</th>\n",
              "      <th>Levadopa</th>\n",
              "      <th>DA</th>\n",
              "      <th>MAOB</th>\n",
              "      <th>Other</th>\n",
              "    </tr>\n",
              "  </thead>\n",
              "  <tbody>\n",
              "    <tr>\n",
              "      <th>0EA27ICBLF</th>\n",
              "      <td>1952</td>\n",
              "      <td>Female</td>\n",
              "      <td>True</td>\n",
              "      <td>True</td>\n",
              "      <td>2000</td>\n",
              "      <td>Left</td>\n",
              "      <td>Don't know</td>\n",
              "      <td>Severe</td>\n",
              "      <td>True</td>\n",
              "      <td>True</td>\n",
              "      <td>False</td>\n",
              "      <td>False</td>\n",
              "    </tr>\n",
              "    <tr>\n",
              "      <th>0QAZFRHQHW</th>\n",
              "      <td>1959</td>\n",
              "      <td>Female</td>\n",
              "      <td>False</td>\n",
              "      <td>False</td>\n",
              "      <td>------</td>\n",
              "      <td>None</td>\n",
              "      <td>Don't know</td>\n",
              "      <td>------</td>\n",
              "      <td>False</td>\n",
              "      <td>False</td>\n",
              "      <td>False</td>\n",
              "      <td>False</td>\n",
              "    </tr>\n",
              "    <tr>\n",
              "      <th>0WTDIGPSBZ</th>\n",
              "      <td>1946</td>\n",
              "      <td>Female</td>\n",
              "      <td>False</td>\n",
              "      <td>False</td>\n",
              "      <td>------</td>\n",
              "      <td>None</td>\n",
              "      <td>Don't know</td>\n",
              "      <td>------</td>\n",
              "      <td>False</td>\n",
              "      <td>False</td>\n",
              "      <td>False</td>\n",
              "      <td>False</td>\n",
              "    </tr>\n",
              "    <tr>\n",
              "      <th>1HOEBIGASW</th>\n",
              "      <td>1944</td>\n",
              "      <td>Male</td>\n",
              "      <td>False</td>\n",
              "      <td>False</td>\n",
              "      <td>------</td>\n",
              "      <td>None</td>\n",
              "      <td>Don't know</td>\n",
              "      <td>------</td>\n",
              "      <td>False</td>\n",
              "      <td>False</td>\n",
              "      <td>False</td>\n",
              "      <td>False</td>\n",
              "    </tr>\n",
              "    <tr>\n",
              "      <th>1WMVCCU4RH</th>\n",
              "      <td>1953</td>\n",
              "      <td>Male</td>\n",
              "      <td>True</td>\n",
              "      <td>True</td>\n",
              "      <td>2017</td>\n",
              "      <td>Left</td>\n",
              "      <td>Don't know</td>\n",
              "      <td>Medium</td>\n",
              "      <td>False</td>\n",
              "      <td>False</td>\n",
              "      <td>False</td>\n",
              "      <td>False</td>\n",
              "    </tr>\n",
              "  </tbody>\n",
              "</table>\n",
              "</div>"
            ],
            "text/plain": [
              "           BirthYear  Gender Parkinsons Tremors DiagnosisYear Sided  \\\n",
              "0EA27ICBLF      1952  Female       True    True          2000  Left   \n",
              "0QAZFRHQHW      1959  Female      False   False        ------  None   \n",
              "0WTDIGPSBZ      1946  Female      False   False        ------  None   \n",
              "1HOEBIGASW      1944    Male      False   False        ------  None   \n",
              "1WMVCCU4RH      1953    Male       True    True          2017  Left   \n",
              "\n",
              "                 UPDRS   Impact Levadopa     DA   MAOB  Other  \n",
              "0EA27ICBLF  Don't know   Severe     True   True  False  False  \n",
              "0QAZFRHQHW  Don't know   ------    False  False  False  False  \n",
              "0WTDIGPSBZ  Don't know   ------    False  False  False  False  \n",
              "1HOEBIGASW  Don't know   ------    False  False  False  False  \n",
              "1WMVCCU4RH  Don't know   Medium    False  False  False  False  "
            ]
          },
          "execution_count": 3,
          "metadata": {},
          "output_type": "execute_result"
        }
      ],
      "source": [
        "rows = []\n",
        "colNames = ['BirthYear','Gender','Parkinsons','Tremors','DiagnosisYear','Sided','UPDRS','Impact','Levadopa','DA','MAOB','Other']\n",
        "users = []\n",
        "\n",
        "userFolder = data_file_path + 'Users'\n",
        "\n",
        "for userFilename in os.listdir(userFolder):\n",
        "    users.append(userFilename[5:-4])\n",
        "\n",
        "    f = open(os.path.join(userFolder, userFilename))\n",
        "    lines = f.readlines()\n",
        "\n",
        "    row = []\n",
        "    col = []\n",
        "\n",
        "    for line in lines:\n",
        "        line = line[:-1]\n",
        "        lineSplit = line.split(': ')\n",
        "        \n",
        "        row.append(lineSplit[1])\n",
        "        col.append(lineSplit[0])\n",
        "            \n",
        "    if col == colNames:\n",
        "        rows.append(row)\n",
        "    else:\n",
        "        print(userFilename+'read wrong.')\n",
        "\n",
        "    f.close()\n",
        "\n",
        "userDF = pd.DataFrame(rows, columns=colNames, index=users)\n",
        "userDF.head()"
      ]
    },
    {
      "cell_type": "code",
      "execution_count": 11,
      "metadata": {
        "colab": {
          "base_uri": "https://localhost:8080/",
          "height": 224
        },
        "id": "1IdfTVASi8pR",
        "outputId": "349eb47a-c761-4463-e453-6b1ac50e1502"
      },
      "outputs": [
        {
          "data": {
            "text/html": [
              "<div>\n",
              "<style scoped>\n",
              "    .dataframe tbody tr th:only-of-type {\n",
              "        vertical-align: middle;\n",
              "    }\n",
              "\n",
              "    .dataframe tbody tr th {\n",
              "        vertical-align: top;\n",
              "    }\n",
              "\n",
              "    .dataframe thead th {\n",
              "        text-align: right;\n",
              "    }\n",
              "</style>\n",
              "<table border=\"1\" class=\"dataframe\">\n",
              "  <thead>\n",
              "    <tr style=\"text-align: right;\">\n",
              "      <th></th>\n",
              "      <th>UserID</th>\n",
              "      <th>Date</th>\n",
              "      <th>Timestamp</th>\n",
              "      <th>Hand</th>\n",
              "      <th>HoldTime</th>\n",
              "      <th>Direction</th>\n",
              "      <th>LatencyTime</th>\n",
              "      <th>FlightTime</th>\n",
              "    </tr>\n",
              "  </thead>\n",
              "  <tbody>\n",
              "    <tr>\n",
              "      <th>0</th>\n",
              "      <td>0EA27ICBLF</td>\n",
              "      <td>160722</td>\n",
              "      <td>18:41:04.336</td>\n",
              "      <td>L</td>\n",
              "      <td>101.6</td>\n",
              "      <td>LL</td>\n",
              "      <td>234.4</td>\n",
              "      <td>156.3</td>\n",
              "    </tr>\n",
              "    <tr>\n",
              "      <th>1</th>\n",
              "      <td>0EA27ICBLF</td>\n",
              "      <td>160722</td>\n",
              "      <td>18:42:14.070</td>\n",
              "      <td>L</td>\n",
              "      <td>85.9</td>\n",
              "      <td>LL</td>\n",
              "      <td>437.5</td>\n",
              "      <td>359.4</td>\n",
              "    </tr>\n",
              "    <tr>\n",
              "      <th>2</th>\n",
              "      <td>0EA27ICBLF</td>\n",
              "      <td>160722</td>\n",
              "      <td>18:42:14.273</td>\n",
              "      <td>L</td>\n",
              "      <td>78.1</td>\n",
              "      <td>LL</td>\n",
              "      <td>210.9</td>\n",
              "      <td>125.0</td>\n",
              "    </tr>\n",
              "    <tr>\n",
              "      <th>3</th>\n",
              "      <td>0EA27ICBLF</td>\n",
              "      <td>160722</td>\n",
              "      <td>18:42:14.617</td>\n",
              "      <td>L</td>\n",
              "      <td>62.5</td>\n",
              "      <td>LL</td>\n",
              "      <td>359.4</td>\n",
              "      <td>281.3</td>\n",
              "    </tr>\n",
              "    <tr>\n",
              "      <th>4</th>\n",
              "      <td>0EA27ICBLF</td>\n",
              "      <td>160722</td>\n",
              "      <td>18:42:15.586</td>\n",
              "      <td>S</td>\n",
              "      <td>125.0</td>\n",
              "      <td>LS</td>\n",
              "      <td>187.5</td>\n",
              "      <td>93.8</td>\n",
              "    </tr>\n",
              "  </tbody>\n",
              "</table>\n",
              "</div>"
            ],
            "text/plain": [
              "       UserID    Date     Timestamp Hand  HoldTime Direction  LatencyTime  \\\n",
              "0  0EA27ICBLF  160722  18:41:04.336    L     101.6        LL        234.4   \n",
              "1  0EA27ICBLF  160722  18:42:14.070    L      85.9        LL        437.5   \n",
              "2  0EA27ICBLF  160722  18:42:14.273    L      78.1        LL        210.9   \n",
              "3  0EA27ICBLF  160722  18:42:14.617    L      62.5        LL        359.4   \n",
              "4  0EA27ICBLF  160722  18:42:15.586    S     125.0        LS        187.5   \n",
              "\n",
              "   FlightTime  \n",
              "0       156.3  \n",
              "1       359.4  \n",
              "2       125.0  \n",
              "3       281.3  \n",
              "4        93.8  "
            ]
          },
          "execution_count": 11,
          "metadata": {},
          "output_type": "execute_result"
        }
      ],
      "source": [
        "rows = []\n",
        "colNames = ['UserID','Date','Timestamp','Hand','HoldTime','Direction','LatencyTime','FlightTime']\n",
        "userSet = set()\n",
        "nonUserSet = set()\n",
        "\n",
        "dataFolder = data_file_path + 'TappyData'\n",
        "invalid = [0,0,0,0,0,0,0,0,0]\n",
        "count = 0\n",
        "for dataFilename in os.listdir(dataFolder):\n",
        "    infoArr = dataFilename[:-4].split('_')\n",
        "    userID = infoArr[0]\n",
        "    if userID not in userDF.index:\n",
        "        continue\n",
        "    yearMonth = infoArr[1]\n",
        "\n",
        "    f = open(os.path.join(dataFolder, dataFilename))\n",
        "    lines = f.readlines()\n",
        "\n",
        "    row = []\n",
        "    \n",
        "    for line in lines:\n",
        "        line = line[:-1]\n",
        "        line_len = len(line)\n",
        "        occur = [m.start() for m in re.finditer('(?='+userID+')', line)]\n",
        "        occur_count = len(occur)\n",
        "        for idx in range(occur_count):\n",
        "            occur_idx = occur[idx]\n",
        "            next_idx = occur[idx+1] if idx < occur_count - 1 else line_len\n",
        "            \n",
        "            cur_line = line[occur_idx:next_idx]\n",
        "            lineSplit = cur_line.split('\\t')\n",
        "\n",
        "            if lineSplit[0] != userID:\n",
        "                print(lineSplit)\n",
        "            elif len(lineSplit) < 8:\n",
        "                pass\n",
        "            else:\n",
        "                try:\n",
        "                    lineSplit[4] = float(lineSplit[4])\n",
        "                    lineSplit[6] = float(lineSplit[6])\n",
        "                    lineSplit[7] = float(lineSplit[7])\n",
        "                    rows.append(lineSplit[0:8])\n",
        "                except ValueError:\n",
        "                    pass\n",
        "    f.close()\n",
        "dataDF = pd.DataFrame(rows, columns=colNames)\n",
        "dataDF.head()"
      ]
    },
    {
      "cell_type": "code",
      "execution_count": 104,
      "metadata": {},
      "outputs": [],
      "source": [
        "test = dataDF[dataDF['Hand'].isin(['L','R','S']) & dataDF['Direction'].isin(['LL','LR','LS','RL','RR','RS','SL','SR','SS']) & (dataDF['HoldTime'] < 10000)]\n",
        "test = test.dropna()\n",
        "test = test.drop_duplicates()\n",
        "test = test.groupby(['UserID','Date']).filter(lambda group: len(group) >= 50)\n",
        "grouped = test.groupby(['UserID','Date'])"
      ]
    },
    {
      "cell_type": "code",
      "execution_count": 114,
      "metadata": {},
      "outputs": [],
      "source": [
        "pos = []\n",
        "neg = []\n",
        "for id in test['UserID'].unique():\n",
        "    if userDF.loc[id]['Parkinsons'] == 'True':\n",
        "        pos.append(id)\n",
        "    elif userDF.loc[id]['Parkinsons'] == 'False':\n",
        "        neg.append(id)\n",
        "    else:\n",
        "        print('!')\n",
        "pos_train = random.sample(pos, 103)\n",
        "pos_test = random.sample([x for x in pos if x not in pos_train], 44)\n",
        "\n",
        "neg_train = random.sample(neg, 34)\n",
        "neg_test = random.sample([x for x in neg if x not in neg_train], 15)"
      ]
    },
    {
      "cell_type": "code",
      "execution_count": null,
      "metadata": {},
      "outputs": [],
      "source": [
        "196\n",
        "147 + 49\n",
        "103 + 44 + 34 + 15\n",
        "8797607\n",
        "6285564 + 2512043\n",
        "4458490 + 1827074 + 1755268 + 756775\n",
        "6232\n",
        "4780 + 1452\n",
        "3514 + 1266 + 998 + 454"
      ]
    },
    {
      "cell_type": "code",
      "execution_count": 158,
      "metadata": {},
      "outputs": [],
      "source": [
        "for name, group in grouped:\n",
        "    filename = '_'.join([name[0],name[1]])\n",
        "    if name[0] in pos_train:\n",
        "        folder = 'data_new/train/pos/'\n",
        "    if name[0] in pos_test:\n",
        "        folder = 'data_new/test/pos/'\n",
        "    if name[0] in neg_train:\n",
        "        folder = 'data_new/train/neg/'\n",
        "    if name[0] in neg_test:\n",
        "        folder = 'data_new/test/neg/'\n",
        "    group['Timestamp'] = pd.to_datetime(group['Timestamp'], format='%H:%M:%S.%f').dt.time\n",
        "    group = group.sort_values('Timestamp')\n",
        "    group.to_csv(folder+filename+'.csv', index=False, header=False)"
      ]
    },
    {
      "attachments": {},
      "cell_type": "markdown",
      "metadata": {},
      "source": [
        "---"
      ]
    },
    {
      "cell_type": "code",
      "execution_count": 169,
      "metadata": {},
      "outputs": [
        {
          "data": {
            "text/html": [
              "<div>\n",
              "<style scoped>\n",
              "    .dataframe tbody tr th:only-of-type {\n",
              "        vertical-align: middle;\n",
              "    }\n",
              "\n",
              "    .dataframe tbody tr th {\n",
              "        vertical-align: top;\n",
              "    }\n",
              "\n",
              "    .dataframe thead th {\n",
              "        text-align: right;\n",
              "    }\n",
              "</style>\n",
              "<table border=\"1\" class=\"dataframe\">\n",
              "  <thead>\n",
              "    <tr style=\"text-align: right;\">\n",
              "      <th></th>\n",
              "      <th>UserID</th>\n",
              "      <th>Date</th>\n",
              "      <th>Timestamp</th>\n",
              "      <th>Hand</th>\n",
              "      <th>HoldTime</th>\n",
              "      <th>Direction</th>\n",
              "      <th>LatencyTime</th>\n",
              "      <th>FlightTime</th>\n",
              "    </tr>\n",
              "  </thead>\n",
              "  <tbody>\n",
              "    <tr>\n",
              "      <th>0</th>\n",
              "      <td>0EA27ICBLF</td>\n",
              "      <td>160722</td>\n",
              "      <td>18:41:04.336</td>\n",
              "      <td>L</td>\n",
              "      <td>101.6</td>\n",
              "      <td>LL</td>\n",
              "      <td>234.4</td>\n",
              "      <td>156.3</td>\n",
              "    </tr>\n",
              "    <tr>\n",
              "      <th>1</th>\n",
              "      <td>0EA27ICBLF</td>\n",
              "      <td>160722</td>\n",
              "      <td>18:42:14.070</td>\n",
              "      <td>L</td>\n",
              "      <td>85.9</td>\n",
              "      <td>LL</td>\n",
              "      <td>437.5</td>\n",
              "      <td>359.4</td>\n",
              "    </tr>\n",
              "    <tr>\n",
              "      <th>2</th>\n",
              "      <td>0EA27ICBLF</td>\n",
              "      <td>160722</td>\n",
              "      <td>18:42:14.273</td>\n",
              "      <td>L</td>\n",
              "      <td>78.1</td>\n",
              "      <td>LL</td>\n",
              "      <td>210.9</td>\n",
              "      <td>125.0</td>\n",
              "    </tr>\n",
              "    <tr>\n",
              "      <th>3</th>\n",
              "      <td>0EA27ICBLF</td>\n",
              "      <td>160722</td>\n",
              "      <td>18:42:14.617</td>\n",
              "      <td>L</td>\n",
              "      <td>62.5</td>\n",
              "      <td>LL</td>\n",
              "      <td>359.4</td>\n",
              "      <td>281.3</td>\n",
              "    </tr>\n",
              "    <tr>\n",
              "      <th>4</th>\n",
              "      <td>0EA27ICBLF</td>\n",
              "      <td>160722</td>\n",
              "      <td>18:42:15.586</td>\n",
              "      <td>S</td>\n",
              "      <td>125.0</td>\n",
              "      <td>LS</td>\n",
              "      <td>187.5</td>\n",
              "      <td>93.8</td>\n",
              "    </tr>\n",
              "  </tbody>\n",
              "</table>\n",
              "</div>"
            ],
            "text/plain": [
              "       UserID    Date     Timestamp Hand  HoldTime Direction  LatencyTime  \\\n",
              "0  0EA27ICBLF  160722  18:41:04.336    L     101.6        LL        234.4   \n",
              "1  0EA27ICBLF  160722  18:42:14.070    L      85.9        LL        437.5   \n",
              "2  0EA27ICBLF  160722  18:42:14.273    L      78.1        LL        210.9   \n",
              "3  0EA27ICBLF  160722  18:42:14.617    L      62.5        LL        359.4   \n",
              "4  0EA27ICBLF  160722  18:42:15.586    S     125.0        LS        187.5   \n",
              "\n",
              "   FlightTime  \n",
              "0       156.3  \n",
              "1       359.4  \n",
              "2       125.0  \n",
              "3       281.3  \n",
              "4        93.8  "
            ]
          },
          "execution_count": 169,
          "metadata": {},
          "output_type": "execute_result"
        }
      ],
      "source": [
        "test.head()"
      ]
    },
    {
      "cell_type": "code",
      "execution_count": 170,
      "metadata": {},
      "outputs": [],
      "source": [
        "def buildRows(posFolder, negFolder):\n",
        "    rows = []\n",
        "    for filename in os.listdir(posFolder) + os.listdir(negFolder):\n",
        "        pos = filename in os.listdir(posFolder)\n",
        "        userid = filename.split('_')[0]\n",
        "        f = open(os.path.join(posFolder, filename)) if pos else open(os.path.join(negFolder, filename))\n",
        "        lines = f.readlines()\n",
        "\n",
        "        featureArr = []\n",
        "\n",
        "        for line in lines:\n",
        "            line = line[:-1]\n",
        "            lineSplit = line.split(',')\n",
        "            try:\n",
        "                holdtime = float(lineSplit[4])\n",
        "                latencytime = float(lineSplit[6])\n",
        "                flighttime = float(lineSplit[7])\n",
        "                featureArr.append([holdtime,latencytime,flighttime])\n",
        "            except ValueError:\n",
        "                pass\n",
        "        if len(featureArr) >= 50:\n",
        "            rows.append([userid,featureArr,pos])\n",
        "        f.close()\n",
        "    return pd.DataFrame(rows, columns=['user','feature','parkinson'])\n",
        "\n",
        "class TimeSeriesDataset(Dataset):\n",
        "    def __init__(self, data):\n",
        "        self.data = data\n",
        "\n",
        "    def __len__(self):\n",
        "        return len(self.data)\n",
        "\n",
        "    def __getitem__(self, idx):\n",
        "        user = self.data.iloc[idx]['user']\n",
        "        sequence = torch.tensor(self.data.iloc[idx]['feature'], dtype=torch.float32)\n",
        "        label = torch.tensor(bool(self.data.iloc[idx]['parkinson']), dtype=torch.bool)\n",
        "        return sequence, label, user"
      ]
    },
    {
      "cell_type": "code",
      "execution_count": 226,
      "metadata": {},
      "outputs": [],
      "source": [
        "folder_pos = 'data_new/train/pos/'\n",
        "folder_neg = 'data_new/train/neg/'\n",
        "train_DF = buildRows(folder_pos,folder_neg)\n",
        "\n",
        "folder_pos = 'data_new/test/pos/'\n",
        "folder_neg = 'data_new/test/neg/'\n",
        "test_DF = buildRows(folder_pos,folder_neg)"
      ]
    },
    {
      "cell_type": "code",
      "execution_count": 227,
      "metadata": {},
      "outputs": [],
      "source": [
        "train_dataset = TimeSeriesDataset(train_DF)\n",
        "test_dataset = TimeSeriesDataset(test_DF)\n",
        "\n",
        "train_loader = DataLoader(train_dataset, batch_size=1, shuffle=True)\n",
        "test_loader = DataLoader(test_dataset, batch_size=1, shuffle=False)\n",
        "\n",
        "device = torch.device(\"cuda\" if torch.cuda.is_available() else \"cpu\")"
      ]
    },
    {
      "cell_type": "code",
      "execution_count": 299,
      "metadata": {},
      "outputs": [],
      "source": [
        "class ConvLSTMClassifier(nn.Module):\n",
        "    def __init__(self):\n",
        "        super(ConvLSTMClassifier, self).__init__()\n",
        "        \n",
        "        self.conv1 = nn.Conv1d(3, 32, kernel_size=5)\n",
        "        self.conv2 = nn.Conv1d(32, 64, kernel_size=5)\n",
        "        self.maxpool = nn.AdaptiveMaxPool1d(2)\n",
        "        self.flatten = nn.Flatten(0)\n",
        "        self.relu = nn.LeakyReLU()\n",
        "        self.lstm = nn.LSTM(16, 32, num_layers=1) # dropout=0.5\n",
        "        self.fc1 = nn.Linear(128, 16)\n",
        "        self.fc2 = nn.Linear(16, 1)\n",
        "        self.sig = nn.Sigmoid()\n",
        "\n",
        "    def forward(self, x, v):\n",
        "        x = x.squeeze(0).transpose(0, 1)\n",
        "        x = self.relu(self.conv1(x))\n",
        "        x = self.relu(self.conv2(x))\n",
        "\n",
        "        x = self.maxpool(x)\n",
        "        out = self.flatten(x)\n",
        "\n",
        "        # x = x.transpose(0, 1)\n",
        "\n",
        "        # h0 = torch.zeros(1, 32).to(device)\n",
        "        # c0 = torch.zeros(1, 32).to(device)\n",
        "        # out, _ = self.lstm(x, (h0,c0))\n",
        "        # out = out[-1, :]\n",
        "        # if v:\n",
        "        #     print(out)\n",
        "        out = self.relu(self.fc1(out))\n",
        "        if v:\n",
        "            print(out)\n",
        "        out = self.sig(self.fc2(out))\n",
        "        return out"
      ]
    },
    {
      "cell_type": "code",
      "execution_count": 319,
      "metadata": {},
      "outputs": [
        {
          "data": {
            "text/plain": [
              "True     3514\n",
              "False     998\n",
              "Name: parkinson, dtype: int64"
            ]
          },
          "execution_count": 319,
          "metadata": {},
          "output_type": "execute_result"
        }
      ],
      "source": [
        "train_DF['parkinson'].value_counts()"
      ]
    },
    {
      "cell_type": "code",
      "execution_count": 346,
      "metadata": {},
      "outputs": [
        {
          "name": "stdout",
          "output_type": "stream",
          "text": [
            "Epoch [1/20], Loss: 7611.4595\n",
            "Saving model, Best roc_auc: 0.75\n",
            "Epoch [1/20], roc_auc: 0.75\n",
            "Epoch [2/20], Loss: 6427.8340\n",
            "Epoch [2/20], roc_auc: 0.72\n",
            "Epoch [3/20], Loss: 5479.6665\n",
            "Epoch [3/20], roc_auc: 0.71\n",
            "Epoch [4/20], Loss: 5459.3223\n",
            "Epoch [4/20], roc_auc: 0.62\n",
            "Epoch [5/20], Loss: 5469.5986\n",
            "Epoch [5/20], roc_auc: 0.74\n",
            "Epoch [6/20], Loss: 5159.4473\n",
            "Epoch [6/20], roc_auc: 0.70\n",
            "Epoch [7/20], Loss: 4883.6606\n",
            "Epoch [7/20], roc_auc: 0.60\n",
            "Epoch [8/20], Loss: 4392.4106\n",
            "Epoch [8/20], roc_auc: 0.64\n",
            "Epoch [9/20], Loss: 4406.5352\n",
            "Epoch [9/20], roc_auc: 0.69\n",
            "Epoch [10/20], Loss: 4240.4014\n",
            "Epoch [10/20], roc_auc: 0.56\n",
            "Epoch [11/20], Loss: 3955.3872\n",
            "Epoch [11/20], roc_auc: 0.68\n"
          ]
        }
      ],
      "source": [
        "model = ConvLSTMClassifier()\n",
        "criterion = nn.BCELoss()\n",
        "optimizer = torch.optim.Adam(model.parameters(), lr=0.0001, weight_decay=1e-6)\n",
        "scheduler = StepLR(optimizer, step_size=1, gamma=0.99)\n",
        "model = model.to(device)\n",
        "\n",
        "num_epochs = 20\n",
        "best_roc_auc = 0\n",
        "for epoch in range(num_epochs):\n",
        "    model.train()\n",
        "    total_loss = 0\n",
        "    count = 0\n",
        "    for sequence, label, user in train_loader:\n",
        "        multi_sequence = []\n",
        "        multi_sequence.append(sequence)\n",
        "        if not label.item():\n",
        "            if sequence.shape[1] > 300:\n",
        "                multi_sequence.append(sequence[:,int(sequence.shape[1]*0.3):,:])\n",
        "                multi_sequence.append(sequence[:,:int(sequence.shape[1]*0.7),:])\n",
        "                multi_sequence.append(sequence[:,int(sequence.shape[1]*0.15):int(sequence.shape[1]*0.85),:])\n",
        "            elif sequence.shape[1] > 100:\n",
        "                multi_sequence.append(sequence)\n",
        "                multi_sequence.append(sequence[:,int(sequence.shape[1]*0.5):,:])\n",
        "                multi_sequence.append(sequence[:,:int(sequence.shape[1]*0.5),:])\n",
        "\n",
        "        for sequence in multi_sequence:\n",
        "            sequence = sequence.to(device)\n",
        "            label = label.to(device)\n",
        "\n",
        "            optimizer.zero_grad()\n",
        "            output = model.forward(sequence,False)\n",
        "\n",
        "            loss = criterion(output.view(-1), label.float())\n",
        "            loss.backward()\n",
        "            optimizer.step()\n",
        "            total_loss += loss\n",
        "\n",
        "    scheduler.step()\n",
        "    print(f\"Epoch [{epoch+1}/{num_epochs}], Loss: {total_loss.item():.4f}\")\n",
        "\n",
        "    model.eval()\n",
        "    preds = []\n",
        "    labels = []\n",
        "    with torch.no_grad():\n",
        "        for sequence, label, user in test_loader:\n",
        "            multi_sequence = []\n",
        "            multi_sequence.append(sequence)\n",
        "            if not label.item():\n",
        "                if sequence.shape[1] > 300:\n",
        "                    multi_sequence.append(sequence[:,int(sequence.shape[1]*0.3):,:])\n",
        "                    multi_sequence.append(sequence[:,:int(sequence.shape[1]*0.7),:])\n",
        "                    multi_sequence.append(sequence[:,int(sequence.shape[1]*0.15):int(sequence.shape[1]*0.85),:])\n",
        "                elif sequence.shape[1] > 100:\n",
        "                    multi_sequence.append(sequence)\n",
        "                    multi_sequence.append(sequence[:,int(sequence.shape[1]*0.5):,:])\n",
        "                    multi_sequence.append(sequence[:,:int(sequence.shape[1]*0.5),:])\n",
        "            multi_output = []\n",
        "            for sequence in multi_sequence:\n",
        "                sequence = sequence.to(device)\n",
        "                label = label.to(device)\n",
        "                output = model.forward(sequence, False)\n",
        "                multi_output.append(output.item())\n",
        "            preds.append(sum(multi_output)/len(multi_output))\n",
        "            labels.append(label.item())\n",
        "\n",
        "    fpr, tpr, thresholds = metrics.roc_curve(np.array(labels), np.array(preds))\n",
        "    roc_auc = metrics.auc(fpr, tpr)\n",
        "    if roc_auc > best_roc_auc:\n",
        "        best_roc_auc = roc_auc\n",
        "        torch.save(model.state_dict(), 'z_setting_2_3.pth')\n",
        "        print(f\"Saving model, Best roc_auc: {roc_auc:.2f}\")\n",
        "    print(f\"Epoch [{epoch+1}/{num_epochs}], roc_auc: {roc_auc:.2f}\")"
      ]
    },
    {
      "cell_type": "code",
      "execution_count": 297,
      "metadata": {},
      "outputs": [],
      "source": [
        "model.load_state_dict(torch.load('z_global_max_pool_best_1.pth'))\n",
        "preds = []\n",
        "labels = []\n",
        "with torch.no_grad():\n",
        "    for sequence, label, user in test_loader:\n",
        "        sequence = sequence.to(device)\n",
        "        label = label.to(device)\n",
        "\n",
        "        output = model.forward(sequence, False)\n",
        "        preds.append(output.item())\n",
        "        labels.append(label.item())\n",
        "\n",
        "fpr, tpr, thresholds = metrics.roc_curve(np.array(labels), np.array(preds))\n",
        "roc_auc = metrics.auc(fpr, tpr)"
      ]
    },
    {
      "cell_type": "code",
      "execution_count": null,
      "metadata": {},
      "outputs": [
        {
          "data": {
            "text/plain": [
              "0.6961605110967284"
            ]
          },
          "execution_count": 345,
          "metadata": {},
          "output_type": "execute_result"
        }
      ],
      "source": [
        "best_roc_auc"
      ]
    },
    {
      "cell_type": "code",
      "execution_count": 293,
      "metadata": {},
      "outputs": [
        {
          "data": {
            "image/png": "[encoded data removed]",
            "text/plain": [
              "<Figure size 640x480 with 1 Axes>"
            ]
          },
          "metadata": {},
          "output_type": "display_data"
        }
      ],
      "source": [
        "fpr, tpr, thresholds = metrics.roc_curve(np.array(labels), np.array(preds))\n",
        "roc_auc = metrics.auc(fpr, tpr)\n",
        "display = metrics.RocCurveDisplay(fpr=fpr, tpr=tpr, roc_auc=roc_auc, estimator_name='ROC')\n",
        "display.plot()\n",
        "plt.show()"
      ]
    },
    {
      "cell_type": "code",
      "execution_count": 223,
      "metadata": {},
      "outputs": [
        {
          "data": {
            "text/plain": [
              "0"
            ]
          },
          "execution_count": 223,
          "metadata": {},
          "output_type": "execute_result"
        }
      ],
      "source": [
        "np.argmax(np.sqrt(tpr*(1-fpr)))"
      ]
    },
    {
      "cell_type": "code",
      "execution_count": 186,
      "metadata": {},
      "outputs": [
        {
          "name": "stderr",
          "output_type": "stream",
          "text": [
            "100%|██████████| 1227/1227 [00:03<00:00, 321.29it/s]\n"
          ]
        }
      ],
      "source": [
        "tp=0\n",
        "tn=0\n",
        "fp=0\n",
        "fn=0\n",
        "with torch.no_grad():\n",
        "    for sequence, label in tqdm(test_loader):\n",
        "        sequence = torch.transpose(sequence,0,1)\n",
        "        sequence = sequence.to(device)\n",
        "        label = label.to(device)\n",
        "\n",
        "        output = model.forward(sequence)\n",
        "        predicted = output.item() > 0.5\n",
        "        if predicted and label.item():\n",
        "            tp += 1\n",
        "        elif predicted:\n",
        "            fp += 1\n",
        "        elif label.item():\n",
        "            fn += 1\n",
        "        else:\n",
        "            tn += 1\n",
        "    acc = 100 * (tp+tn)/(tp+tn+fp+fn)\n",
        "    trec = 0 if tp==0 else 100*tp/(tp+fn)\n",
        "    tpre = 0 if tp==0 else 100*tp/(tp+fp)\n",
        "    frec = 0 if tn==0 else 100*tn/(tn+fp)\n",
        "    fpre = 0 if tn==0 else 100*tn/(tn+fn)"
      ]
    },
    {
      "cell_type": "code",
      "execution_count": 187,
      "metadata": {},
      "outputs": [
        {
          "name": "stdout",
          "output_type": "stream",
          "text": [
            "0.2803969715325505\n"
          ]
        }
      ],
      "source": [
        "p_pos = 868/1227\n",
        "p_neg = 359/1227\n",
        "p_pos_pre = (tp+fp)/1227\n",
        "p_neg_pre = (tn+fn)/1227\n",
        "acc = (tp+tn)/1227\n",
        "p_e = p_pos*p_pos_pre + p_neg*p_neg_pre\n",
        "print((acc-p_e)/(1-p_e))\n"
      ]
    },
    {
      "cell_type": "code",
      "execution_count": 188,
      "metadata": {},
      "outputs": [
        {
          "name": "stdout",
          "output_type": "stream",
          "text": [
            "421\n",
            "319\n",
            "40\n",
            "447\n"
          ]
        },
        {
          "ename": "",
          "evalue": "",
          "output_type": "error",
          "traceback": [
            "\u001b[1;31mThe Kernel crashed while executing code in the the current cell or a previous cell. Please review the code in the cell(s) to identify a possible cause of the failure. Click <a href='https://aka.ms/vscodeJupyterKernelCrash'>here</a> for more info. View Jupyter <a href='command:jupyter.viewOutput'>log</a> for further details."
          ]
        }
      ],
      "source": [
        "print(tp)\n",
        "print(tn)\n",
        "print(fp)\n",
        "print(fn)"
      ]
    },
    {
      "cell_type": "code",
      "execution_count": null,
      "metadata": {},
      "outputs": [],
      "source": []
    },
    {
      "cell_type": "code",
      "execution_count": null,
      "metadata": {},
      "outputs": [],
      "source": []
    },
    {
      "cell_type": "code",
      "execution_count": null,
      "metadata": {},
      "outputs": [],
      "source": []
    },
    {
      "cell_type": "code",
      "execution_count": null,
      "metadata": {},
      "outputs": [],
      "source": []
    },
    {
      "cell_type": "code",
      "execution_count": null,
      "metadata": {},
      "outputs": [],
      "source": []
    },
    {
      "cell_type": "code",
      "execution_count": null,
      "metadata": {},
      "outputs": [],
      "source": []
    },
    {
      "cell_type": "code",
      "execution_count": null,
      "metadata": {},
      "outputs": [],
      "source": []
    },
    {
      "cell_type": "code",
      "execution_count": null,
      "metadata": {},
      "outputs": [],
      "source": []
    },
    {
      "cell_type": "code",
      "execution_count": 20,
      "metadata": {
        "id": "ohW0SBwkpMgG"
      },
      "outputs": [],
      "source": [
        "df = pd.merge(dataDF,userDF[['Parkinsons']], left_on='UserID', right_index=True, how='left')\n",
        "df['Parkinsons'] = df['Parkinsons'].map({'False':0, 'True':1})\n",
        "df['Hand'] = df['Hand'].map({'L':1, 'R':2, 'S':0})\n",
        "df['Direction'] = df['Direction'].map({'LL':0, 'RL':1, 'LR':2, 'RR':3, 'LS':4, 'SL':5, 'RS':6, 'SR':7, 'SS':8})\n",
        "df['HoldTime'] = df['HoldTime'].astype(float)\n",
        "df['LatencyTime'] = df['LatencyTime'].astype(float)\n",
        "df['FlightTime'] = df['FlightTime'].astype(float)\n",
        "df = df.dropna()"
      ]
    },
    {
      "cell_type": "code",
      "execution_count": 21,
      "metadata": {
        "id": "mqpCZClr6aQJ"
      },
      "outputs": [],
      "source": [
        "positiveSamples = df[df['Parkinsons']==1]\n",
        "negativeSamples = df[df['Parkinsons']==0]\n",
        "positiveGrouped = positiveSamples.groupby('UserID')\n",
        "negativeGrouped = negativeSamples.groupby('UserID')\n",
        "positiveUserIDs = np.array(positiveSamples['UserID'].unique())\n",
        "negativeUserIDs = np.array(negativeSamples['UserID'].unique())\n",
        "np.random.shuffle(positiveUserIDs)\n",
        "np.random.shuffle(negativeUserIDs)\n",
        "\n",
        "train_ratio = 0.7\n",
        "valid_ratio = 0.2\n",
        "\n",
        "total_positive_rows = len(positiveSamples)\n",
        "train_positive_rows = int(total_positive_rows * train_ratio)\n",
        "valid_positive_rows = int(total_positive_rows * valid_ratio)\n",
        "total_negative_rows = len(negativeSamples)\n",
        "train_negative_rows = int(total_negative_rows * train_ratio)\n",
        "valid_negative_rows = int(total_negative_rows * valid_ratio)\n",
        "\n",
        "# Initialize empty DataFrames for training, validation, and testing sets\n",
        "train_df = pd.DataFrame(columns=df.columns)\n",
        "valid_df = pd.DataFrame(columns=df.columns)\n",
        "test_df = pd.DataFrame(columns=df.columns)\n",
        "\n",
        "train_positive_count, valid_positive_count = 0, 0\n",
        "train_negative_count, valid_negative_count = 0, 0\n",
        "train_data = []\n",
        "valid_data = []\n",
        "test_data = []\n",
        "\n",
        "# Iterate over the shuffled user_ids and assign rows to the corresponding set\n",
        "for userID in positiveUserIDs:\n",
        "    user_data = positiveGrouped.get_group(userID)\n",
        "    user_rows = len(user_data)\n",
        "    \n",
        "    if train_positive_count + user_rows <= train_positive_rows:\n",
        "        train_data.append(user_data)\n",
        "        train_positive_count += user_rows\n",
        "    elif valid_positive_count + user_rows <= valid_positive_rows:\n",
        "        valid_data.append(user_data)\n",
        "        valid_positive_count += user_rows\n",
        "    else:\n",
        "        test_data.append(user_data)\n",
        "\n",
        "for userID in negativeUserIDs:\n",
        "    user_data = negativeGrouped.get_group(userID)\n",
        "    user_rows = len(user_data)\n",
        "    \n",
        "    if train_negative_count + user_rows <= train_negative_rows:\n",
        "        train_data.append(user_data)\n",
        "        train_negative_count += user_rows\n",
        "    elif valid_negative_count + user_rows <= valid_negative_rows:\n",
        "        valid_data.append(user_data)\n",
        "        valid_negative_count += user_rows\n",
        "    else:\n",
        "        test_data.append(user_data)\n",
        "\n",
        "train_df = pd.concat(train_data)\n",
        "valid_df = pd.concat(valid_data)\n",
        "test_df = pd.concat(test_data)\n",
        "valid_test_df = pd.concat([valid_df, test_df]).reset_index(drop=True)"
      ]
    },
    {
      "cell_type": "code",
      "execution_count": 33,
      "metadata": {},
      "outputs": [
        {
          "data": {
            "text/html": [
              "<div>\n",
              "<style scoped>\n",
              "    .dataframe tbody tr th:only-of-type {\n",
              "        vertical-align: middle;\n",
              "    }\n",
              "\n",
              "    .dataframe tbody tr th {\n",
              "        vertical-align: top;\n",
              "    }\n",
              "\n",
              "    .dataframe thead th {\n",
              "        text-align: right;\n",
              "    }\n",
              "</style>\n",
              "<table border=\"1\" class=\"dataframe\">\n",
              "  <thead>\n",
              "    <tr style=\"text-align: right;\">\n",
              "      <th></th>\n",
              "      <th>UserID</th>\n",
              "      <th>Date</th>\n",
              "      <th>Timestamp</th>\n",
              "      <th>Hand</th>\n",
              "      <th>HoldTime</th>\n",
              "      <th>Direction</th>\n",
              "      <th>LatencyTime</th>\n",
              "      <th>FlightTime</th>\n",
              "      <th>Parkinsons</th>\n",
              "    </tr>\n",
              "  </thead>\n",
              "  <tbody>\n",
              "    <tr>\n",
              "      <th>1161193</th>\n",
              "      <td>8EY6NZAKCI</td>\n",
              "      <td>160811</td>\n",
              "      <td>19:42:57.969</td>\n",
              "      <td>1</td>\n",
              "      <td>31.3</td>\n",
              "      <td>1</td>\n",
              "      <td>218.8</td>\n",
              "      <td>328.1</td>\n",
              "      <td>1.0</td>\n",
              "    </tr>\n",
              "    <tr>\n",
              "      <th>1161194</th>\n",
              "      <td>8EY6NZAKCI</td>\n",
              "      <td>160811</td>\n",
              "      <td>19:42:58.148</td>\n",
              "      <td>2</td>\n",
              "      <td>31.3</td>\n",
              "      <td>2</td>\n",
              "      <td>179.7</td>\n",
              "      <td>148.4</td>\n",
              "      <td>1.0</td>\n",
              "    </tr>\n",
              "    <tr>\n",
              "      <th>1161195</th>\n",
              "      <td>8EY6NZAKCI</td>\n",
              "      <td>160811</td>\n",
              "      <td>19:42:58.414</td>\n",
              "      <td>2</td>\n",
              "      <td>31.3</td>\n",
              "      <td>3</td>\n",
              "      <td>265.6</td>\n",
              "      <td>234.4</td>\n",
              "      <td>1.0</td>\n",
              "    </tr>\n",
              "    <tr>\n",
              "      <th>1161196</th>\n",
              "      <td>8EY6NZAKCI</td>\n",
              "      <td>160811</td>\n",
              "      <td>19:42:58.656</td>\n",
              "      <td>1</td>\n",
              "      <td>273.4</td>\n",
              "      <td>1</td>\n",
              "      <td>265.6</td>\n",
              "      <td>234.4</td>\n",
              "      <td>1.0</td>\n",
              "    </tr>\n",
              "    <tr>\n",
              "      <th>1161197</th>\n",
              "      <td>8EY6NZAKCI</td>\n",
              "      <td>160811</td>\n",
              "      <td>19:43:01.703</td>\n",
              "      <td>1</td>\n",
              "      <td>15.6</td>\n",
              "      <td>0</td>\n",
              "      <td>234.4</td>\n",
              "      <td>375.0</td>\n",
              "      <td>1.0</td>\n",
              "    </tr>\n",
              "    <tr>\n",
              "      <th>...</th>\n",
              "      <td>...</td>\n",
              "      <td>...</td>\n",
              "      <td>...</td>\n",
              "      <td>...</td>\n",
              "      <td>...</td>\n",
              "      <td>...</td>\n",
              "      <td>...</td>\n",
              "      <td>...</td>\n",
              "      <td>...</td>\n",
              "    </tr>\n",
              "    <tr>\n",
              "      <th>276504</th>\n",
              "      <td>48DZPAJ5NS</td>\n",
              "      <td>160825</td>\n",
              "      <td>13:56:28.559</td>\n",
              "      <td>1</td>\n",
              "      <td>121.1</td>\n",
              "      <td>1</td>\n",
              "      <td>335.9</td>\n",
              "      <td>199.2</td>\n",
              "      <td>1.0</td>\n",
              "    </tr>\n",
              "    <tr>\n",
              "      <th>276505</th>\n",
              "      <td>48DZPAJ5NS</td>\n",
              "      <td>160825</td>\n",
              "      <td>13:56:28.758</td>\n",
              "      <td>0</td>\n",
              "      <td>121.1</td>\n",
              "      <td>4</td>\n",
              "      <td>203.1</td>\n",
              "      <td>82.0</td>\n",
              "      <td>1.0</td>\n",
              "    </tr>\n",
              "    <tr>\n",
              "      <th>276506</th>\n",
              "      <td>48DZPAJ5NS</td>\n",
              "      <td>160825</td>\n",
              "      <td>13:56:29.930</td>\n",
              "      <td>2</td>\n",
              "      <td>121.1</td>\n",
              "      <td>3</td>\n",
              "      <td>347.7</td>\n",
              "      <td>214.8</td>\n",
              "      <td>1.0</td>\n",
              "    </tr>\n",
              "    <tr>\n",
              "      <th>276507</th>\n",
              "      <td>48DZPAJ5NS</td>\n",
              "      <td>160825</td>\n",
              "      <td>13:56:31.094</td>\n",
              "      <td>1</td>\n",
              "      <td>164.1</td>\n",
              "      <td>0</td>\n",
              "      <td>437.5</td>\n",
              "      <td>324.2</td>\n",
              "      <td>1.0</td>\n",
              "    </tr>\n",
              "    <tr>\n",
              "      <th>276508</th>\n",
              "      <td>48DZPAJ5NS</td>\n",
              "      <td>160825</td>\n",
              "      <td>13:56:32.590</td>\n",
              "      <td>2</td>\n",
              "      <td>121.1</td>\n",
              "      <td>3</td>\n",
              "      <td>300.8</td>\n",
              "      <td>179.7</td>\n",
              "      <td>1.0</td>\n",
              "    </tr>\n",
              "  </tbody>\n",
              "</table>\n",
              "<p>647407 rows × 9 columns</p>\n",
              "</div>"
            ],
            "text/plain": [
              "             UserID    Date     Timestamp  Hand  HoldTime  Direction  \\\n",
              "1161193  8EY6NZAKCI  160811  19:42:57.969     1      31.3          1   \n",
              "1161194  8EY6NZAKCI  160811  19:42:58.148     2      31.3          2   \n",
              "1161195  8EY6NZAKCI  160811  19:42:58.414     2      31.3          3   \n",
              "1161196  8EY6NZAKCI  160811  19:42:58.656     1     273.4          1   \n",
              "1161197  8EY6NZAKCI  160811  19:43:01.703     1      15.6          0   \n",
              "...             ...     ...           ...   ...       ...        ...   \n",
              "276504   48DZPAJ5NS  160825  13:56:28.559     1     121.1          1   \n",
              "276505   48DZPAJ5NS  160825  13:56:28.758     0     121.1          4   \n",
              "276506   48DZPAJ5NS  160825  13:56:29.930     2     121.1          3   \n",
              "276507   48DZPAJ5NS  160825  13:56:31.094     1     164.1          0   \n",
              "276508   48DZPAJ5NS  160825  13:56:32.590     2     121.1          3   \n",
              "\n",
              "         LatencyTime  FlightTime  Parkinsons  \n",
              "1161193        218.8       328.1         1.0  \n",
              "1161194        179.7       148.4         1.0  \n",
              "1161195        265.6       234.4         1.0  \n",
              "1161196        265.6       234.4         1.0  \n",
              "1161197        234.4       375.0         1.0  \n",
              "...              ...         ...         ...  \n",
              "276504         335.9       199.2         1.0  \n",
              "276505         203.1        82.0         1.0  \n",
              "276506         347.7       214.8         1.0  \n",
              "276507         437.5       324.2         1.0  \n",
              "276508         300.8       179.7         1.0  \n",
              "\n",
              "[647407 rows x 9 columns]"
            ]
          },
          "execution_count": 33,
          "metadata": {},
          "output_type": "execute_result"
        }
      ],
      "source": [
        "test_df[test_df['Parkinsons']==1]"
      ]
    },
    {
      "cell_type": "code",
      "execution_count": 13,
      "metadata": {},
      "outputs": [],
      "source": [
        "from torch import nn\n",
        "import torch\n",
        "device = \"cuda\""
      ]
    },
    {
      "cell_type": "code",
      "execution_count": 11,
      "metadata": {
        "id": "xs03fa4Ip-r3"
      },
      "outputs": [],
      "source": [
        "class MLP(nn.Module):\n",
        "    def __init__(self):\n",
        "        super(MLP, self).__init__()\n",
        "        self.fc1 = nn.Linear(4, 1024)\n",
        "        self.fc2 = nn.Linear(1024, 128)\n",
        "        self.fc3 = nn.Linear(128, 32)\n",
        "        self.fc4 = nn.Linear(32, 1)\n",
        "        self.sigmoid = nn.Sigmoid()\n",
        "\n",
        "    def forward(self, x):\n",
        "        x = self.fc1(x)\n",
        "        x = nn.functional.relu(x)\n",
        "        x = self.fc2(x)\n",
        "        x = nn.functional.relu(x)\n",
        "        x = self.fc3(x)\n",
        "        x = nn.functional.relu(x)\n",
        "        x = self.fc4(x)\n",
        "        x = self.sigmoid(x)\n",
        "        return x"
      ]
    },
    {
      "cell_type": "code",
      "execution_count": 14,
      "metadata": {
        "id": "MJYrMgTJ7Lht"
      },
      "outputs": [],
      "source": [
        "feature_columns = ['Hand','HoldTime','Direction','LatencyTime']\n",
        "label_column = 'Parkinsons'\n",
        "\n",
        "X_train = torch.tensor(train_df[feature_columns].values, dtype=torch.float32).to(device)\n",
        "y_train = torch.tensor(train_df[label_column].values, dtype=torch.float32).unsqueeze(1).to(device)\n",
        "\n",
        "X_valid = torch.tensor(valid_df[feature_columns].values, dtype=torch.float32).to(device)\n",
        "y_valid = torch.tensor(valid_df[label_column].values, dtype=torch.float32).unsqueeze(1).to(device)\n",
        "\n",
        "X_test = torch.tensor(test_df[feature_columns].values, dtype=torch.float32).to(device)\n",
        "y_test = torch.tensor(test_df[label_column].values, dtype=torch.float32).unsqueeze(1).to(device)"
      ]
    },
    {
      "cell_type": "code",
      "execution_count": 15,
      "metadata": {
        "colab": {
          "base_uri": "https://localhost:8080/"
        },
        "id": "IXRjypXgtlSH",
        "outputId": "8ae014d9-6399-4b3f-f094-d9d255ed4e09"
      },
      "outputs": [
        {
          "name": "stderr",
          "output_type": "stream",
          "text": [
            "100%|██████████| 196612/196612 [06:33<00:00, 500.05it/s]\n",
            "100%|██████████| 44254/44254 [00:29<00:00, 1492.24it/s]\n"
          ]
        },
        {
          "name": "stdout",
          "output_type": "stream",
          "text": [
            "Epoch 1 train loss: 0.018 val loss: 1.401\n"
          ]
        },
        {
          "name": "stderr",
          "output_type": "stream",
          "text": [
            "100%|██████████| 196612/196612 [06:26<00:00, 508.14it/s]\n",
            "100%|██████████| 44254/44254 [00:29<00:00, 1486.38it/s]\n"
          ]
        },
        {
          "name": "stdout",
          "output_type": "stream",
          "text": [
            "Epoch 2 train loss: 0.018 val loss: 1.671\n"
          ]
        },
        {
          "name": "stderr",
          "output_type": "stream",
          "text": [
            "100%|██████████| 196612/196612 [06:26<00:00, 508.86it/s]\n",
            "100%|██████████| 44254/44254 [00:29<00:00, 1487.28it/s]\n"
          ]
        },
        {
          "name": "stdout",
          "output_type": "stream",
          "text": [
            "Epoch 3 train loss: 0.018 val loss: 1.397\n"
          ]
        },
        {
          "name": "stderr",
          "output_type": "stream",
          "text": [
            "100%|██████████| 196612/196612 [06:38<00:00, 493.39it/s]\n",
            "100%|██████████| 44254/44254 [00:31<00:00, 1417.44it/s]\n"
          ]
        },
        {
          "name": "stdout",
          "output_type": "stream",
          "text": [
            "Epoch 4 train loss: 0.018 val loss: 1.576\n"
          ]
        },
        {
          "name": "stderr",
          "output_type": "stream",
          "text": [
            "100%|██████████| 196612/196612 [06:37<00:00, 495.24it/s]\n",
            "100%|██████████| 44254/44254 [00:31<00:00, 1427.04it/s]\n"
          ]
        },
        {
          "name": "stdout",
          "output_type": "stream",
          "text": [
            "Epoch 5 train loss: 0.018 val loss: 1.501\n"
          ]
        },
        {
          "name": "stderr",
          "output_type": "stream",
          "text": [
            "100%|██████████| 196612/196612 [06:34<00:00, 498.23it/s]\n",
            "100%|██████████| 44254/44254 [00:31<00:00, 1424.88it/s]\n"
          ]
        },
        {
          "name": "stdout",
          "output_type": "stream",
          "text": [
            "Epoch 6 train loss: 0.018 val loss: 1.543\n"
          ]
        },
        {
          "name": "stderr",
          "output_type": "stream",
          "text": [
            "100%|██████████| 196612/196612 [06:35<00:00, 496.94it/s]\n",
            "100%|██████████| 44254/44254 [00:30<00:00, 1431.19it/s]\n"
          ]
        },
        {
          "name": "stdout",
          "output_type": "stream",
          "text": [
            "Epoch 7 train loss: 0.018 val loss: 1.554\n"
          ]
        },
        {
          "name": "stderr",
          "output_type": "stream",
          "text": [
            "100%|██████████| 196612/196612 [06:36<00:00, 495.43it/s]\n",
            "100%|██████████| 44254/44254 [00:31<00:00, 1383.20it/s]\n"
          ]
        },
        {
          "name": "stdout",
          "output_type": "stream",
          "text": [
            "Epoch 8 train loss: 0.018 val loss: 1.627\n"
          ]
        },
        {
          "name": "stderr",
          "output_type": "stream",
          "text": [
            "100%|██████████| 196612/196612 [06:26<00:00, 508.53it/s]\n",
            "100%|██████████| 44254/44254 [00:30<00:00, 1449.53it/s]\n"
          ]
        },
        {
          "name": "stdout",
          "output_type": "stream",
          "text": [
            "Epoch 9 train loss: 0.018 val loss: 1.575\n"
          ]
        },
        {
          "name": "stderr",
          "output_type": "stream",
          "text": [
            "100%|██████████| 196612/196612 [06:21<00:00, 515.97it/s]\n",
            "100%|██████████| 44254/44254 [00:30<00:00, 1449.67it/s]\n"
          ]
        },
        {
          "name": "stdout",
          "output_type": "stream",
          "text": [
            "Epoch 10 train loss: 0.018 val loss: 1.451\n"
          ]
        },
        {
          "name": "stderr",
          "output_type": "stream",
          "text": [
            "100%|██████████| 40812/40812 [00:47<00:00, 864.75it/s]"
          ]
        },
        {
          "name": "stdout",
          "output_type": "stream",
          "text": [
            "True positives: 633086\n",
            "True negatives: 22503\n",
            "False positives: 636308\n",
            "False negatives: 14077\n"
          ]
        },
        {
          "name": "stderr",
          "output_type": "stream",
          "text": [
            "\n"
          ]
        }
      ],
      "source": [
        "from tqdm import tqdm\n",
        "from torch.utils.data import TensorDataset, DataLoader\n",
        "\n",
        "train_dataset = TensorDataset(X_train, y_train)\n",
        "train_dataloader = DataLoader(train_dataset, batch_size=32, shuffle=True)\n",
        "val_dataset = TensorDataset(X_valid, y_valid)\n",
        "val_dataloader = DataLoader(val_dataset, batch_size=32)\n",
        "test_dataset = TensorDataset(X_test, y_test)\n",
        "test_dataloader = DataLoader(test_dataset, batch_size=32)\n",
        "\n",
        "model = MLP().to(device)\n",
        "\n",
        "# Define the loss function and optimizer\n",
        "criterion = nn.BCELoss()\n",
        "optimizer = torch.optim.Adam(model.parameters())\n",
        "\n",
        "# Train the MLP model on the training set and evaluate on the validation set\n",
        "best_loss = float('inf')\n",
        "for epoch in range(10):\n",
        "    running_loss = 0.0\n",
        "    for inputs, labels in tqdm(train_dataloader):\n",
        "        optimizer.zero_grad()\n",
        "        outputs = model(inputs)\n",
        "        loss = criterion(outputs, labels)\n",
        "        loss.backward()\n",
        "        optimizer.step()\n",
        "        running_loss += loss.item()\n",
        "    # Evaluate the model on the validation set\n",
        "    with torch.no_grad():\n",
        "        total_val_loss = 0\n",
        "        for inputs, labels in tqdm(val_dataloader):\n",
        "            val_outputs = model(inputs)\n",
        "            val_loss = criterion(val_outputs, labels)\n",
        "            total_val_loss = total_val_loss + val_loss\n",
        "        if total_val_loss < best_loss:\n",
        "            best_loss = total_val_loss\n",
        "            best_model = model.state_dict()\n",
        "    print('Epoch %d train loss: %.3f val loss: %.3f' % (epoch + 1, running_loss / len(X_train), total_val_loss))\n",
        "\n",
        "# Load the best model and evaluate it on the testing set\n",
        "model.load_state_dict(best_model)\n",
        "with torch.no_grad():\n",
        "    test_tp = test_tn = test_fp = test_fn = 0\n",
        "    for inputs, labels in tqdm(test_dataloader):\n",
        "        test_outputs = model(inputs)\n",
        "        test_predictions = (test_outputs > 0.5).float()\n",
        "        test_tp = test_tp + ((test_predictions == 1) & (labels == 1)).sum().item()\n",
        "        test_tn = test_tn + ((test_predictions == 0) & (labels == 0)).sum().item()\n",
        "        test_fp = test_fp + ((test_predictions == 1) & (labels == 0)).sum().item()\n",
        "        test_fn = test_fn + ((test_predictions == 0) & (labels == 1)).sum().item()\n",
        "    \n",
        "print('True positives:', test_tp)\n",
        "print('True negatives:', test_tn)\n",
        "print('False positives:', test_fp)\n",
        "print('False negatives:', test_fn)"
      ]
    },
    {
      "cell_type": "code",
      "execution_count": null,
      "metadata": {
        "id": "g-gGskZwqhG1"
      },
      "outputs": [],
      "source": [
        "torch.save(model.state_dict(), '/content/gdrive/MyDrive/model.pth')\n"
      ]
    },
    {
      "cell_type": "code",
      "execution_count": 27,
      "metadata": {
        "id": "hHhMB9pgyyxu"
      },
      "outputs": [
        {
          "data": {
            "text/plain": [
              "0.4674514364745081"
            ]
          },
          "execution_count": 27,
          "metadata": {},
          "output_type": "execute_result"
        }
      ],
      "source": [
        "633086 / (118972 + 135540)"
      ]
    },
    {
      "cell_type": "code",
      "execution_count": 8,
      "metadata": {},
      "outputs": [
        {
          "data": {
            "text/plain": [
              "118972"
            ]
          },
          "execution_count": 8,
          "metadata": {},
          "output_type": "execute_result"
        }
      ],
      "source": [
        "118972 TP\n",
        "211097 TN\n",
        "46010 FP\n",
        "135540 FN"
      ]
    },
    {
      "cell_type": "code",
      "execution_count": null,
      "metadata": {
        "id": "CZk4c706BqR4"
      },
      "outputs": [],
      "source": [
        "from sklearn.svm import LinearSVC\n",
        "from sklearn.preprocessing import StandardScaler\n",
        "from sklearn.metrics import accuracy_score\n",
        "\n",
        "feature_columns = ['HoldTime'] # ['Hand','HoldTime','Direction','LatencyTime']\n",
        "label_column = 'Parkinsons'\n",
        "X_train = train_df[feature_columns]\n",
        "y_train = train_df[label_column]\n",
        "\n",
        "X_test = valid_test_df[feature_columns]\n",
        "y_test = valid_test_df[label_column]\n",
        "\n",
        "scaler = StandardScaler()\n",
        "X_train_scaled = scaler.fit_transform(X_train)\n",
        "X_test_scaled = scaler.transform(X_test)\n",
        "\n",
        "svm = LinearSVC(verbose=2,max_iter=1000,C=0.01)\n",
        "svm.fit(X_train_scaled, y_train)\n",
        "\n",
        "y_test_pred = svm.predict(X_test_scaled)\n",
        "test_accuracy = accuracy_score(y_test, y_test_pred)\n",
        "print(f'Test accuracy: {test_accuracy:.4f}')"
      ]
    },
    {
      "cell_type": "code",
      "execution_count": null,
      "metadata": {
        "id": "agCz6gqb0ldC"
      },
      "outputs": [],
      "source": [
        "from sklearn.metrics import confusion_matrix\n",
        "cm = confusion_matrix(y_test, y_test_pred)\n",
        "tn, fp, fn, tp = cm.ravel()"
      ]
    }
  ],
  "metadata": {
    "colab": {
      "provenance": []
    },
    "gpuClass": "standard",
    "kernelspec": {
      "display_name": "Python 3",
      "language": "python",
      "name": "python3"
    },
    "language_info": {
      "codemirror_mode": {
        "name": "ipython",
        "version": 3
      },
      "file_extension": ".py",
      "mimetype": "text/x-python",
      "name": "python",
      "nbconvert_exporter": "python",
      "pygments_lexer": "ipython3",
      "version": "3.11.2"
    },
    "vscode": {
      "interpreter": {
        "hash": "6cd27dcb146ec26177318fc2de7219250640a76b7da8252aaf504d9c7a582fb2"
      }
    }
  },
  "nbformat": 4,
  "nbformat_minor": 0
}
